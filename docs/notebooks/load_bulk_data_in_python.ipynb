{
 "cells": [
  {
   "cell_type": "markdown",
   "metadata": {},
   "source": [
    "# Load bulk data in Python\n",
    "\n",
    "This example is available in the Jupyter notebook at: [github.com/intrahealth/client-registry-docs/docs/notebooks/load_bulk_data_in_python.ipynb](https://github.com/intrahealth/client-registry-docs/blob/master/docs/notebooks/simple_query.ipynb)"
   ]
  },
  {
   "cell_type": "code",
   "execution_count": 1,
   "metadata": {},
   "outputs": [],
   "source": [
    "#!/usr/bin/env python3\n",
    "from pathlib import Path\n",
    "from requests_pkcs12 import get, post\n",
    "import pandas as pd\n",
    "import numpy as np\n",
    "\n",
    "import recordlinkage\n",
    "\n",
    "import fhirclient.models.patient as p\n",
    "import fhirclient.models.humanname as hn\n",
    "import fhirclient.models.contactpoint as cp\n",
    "import fhirclient.models.fhirdate as fd\n",
    "import fhirclient.models.identifier as ident\n",
    "from fhirclient import client\n",
    "\n",
    "import json\n",
    "import time\n",
    "import itertools\n",
    "\n",
    "# suppress warning: \"Certificate for localhost has no `subjectAltName`, falling back to check for a `commonName` for now\"\n",
    "import urllib3\n",
    "urllib3.disable_warnings(urllib3.exceptions.SubjectAltNameWarning)"
   ]
  },
  {
   "cell_type": "code",
   "execution_count": 2,
   "metadata": {},
   "outputs": [
    {
     "name": "stdout",
     "output_type": "stream",
     "text": [
      "Pandas version: 1.0.3 \n",
      "\n",
      "Python Record Linkage version: 0.14 \n",
      "\n",
      "Numpy version: 1.18.2 \n",
      "\n",
      "FHIR client version: 3.2.0 \n",
      "\n"
     ]
    }
   ],
   "source": [
    "# versions\n",
    "print(\"Pandas version: {0}\".format(pd.__version__),'\\n')\n",
    "print(\"Python Record Linkage version: {0}\".format(recordlinkage._version.get_versions()['version']),'\\n')\n",
    "print(\"Numpy version: {0}\".format(np.__version__),'\\n')\n",
    "print(\"FHIR client version: {0}\".format(client.__version__),'\\n')"
   ]
  },
  {
   "cell_type": "code",
   "execution_count": 3,
   "metadata": {},
   "outputs": [],
   "source": [
    "# path to your git clone of github.com/intrahealth/client-registry\n",
    "crhome = Path.home() / 'src' / 'github.com' / 'intrahealth' / 'client-registry'\n",
    "clientcert = crhome / 'server' / 'sampleclientcertificates' / 'openmrs.p12'\n",
    "servercert = crhome / 'server' / 'certificates' / 'server_cert.pem'\n",
    "csv_file = crhome / 'tests' / 'uganda_data_v21_20201501.csv'"
   ]
  },
  {
   "cell_type": "code",
   "execution_count": 4,
   "metadata": {},
   "outputs": [
    {
     "name": "stdout",
     "output_type": "stream",
     "text": [
      "Number of records : 5000\n",
      "         rec_id sex date_of_birth given_name       surname phone_number  \\\n",
      "0  rec-2762-org   f      19671207     zuwena         acile   712 300633   \n",
      "1  rec-2009-org   f      19761028     zuwena        lusike   772 614594   \n",
      "2  rec-3269-org   f      19811002     zuwena      mungugeo   772 162632   \n",
      "3  rec-1609-org   f      19270719    zuraika   akantambira   772 837692   \n",
      "4  rec-2802-org   m                   zulfas      nyanchwo   782 855101   \n",
      "\n",
      "       uganda_nin   art_number  \n",
      "0  CF21927470OWMT   KMC-819708  \n",
      "1  CF68167355NUZY   KUB-176148  \n",
      "2  CF50136842UQFQ   MBA-746695  \n",
      "3  CF68008770HZML   KMC-270901  \n",
      "4  CM25736526XWGC   KSG-830566  \n"
     ]
    }
   ],
   "source": [
    "df_a = pd.read_csv(csv_file)\n",
    "# df_a = df_a.set_index('rec_id')\n",
    "print('Number of records :', len(df_a))\n",
    "print(df_a.head())"
   ]
  },
  {
   "cell_type": "code",
   "execution_count": 5,
   "metadata": {},
   "outputs": [
    {
     "name": "stdout",
     "output_type": "stream",
     "text": [
      "female    3224\n",
      "           963\n",
      "male       809\n",
      "r            1\n",
      "d            1\n",
      "k            1\n",
      "q            1\n",
      "Name: sex, dtype: int64\n",
      "         rec_id     sex date_of_birth given_name      surname phone_number  \\\n",
      "0  rec-2762-org  female    1967-12-07     zuwena        acile   712 300633   \n",
      "1  rec-2009-org  female    1976-10-28     zuwena       lusike   772 614594   \n",
      "2  rec-3269-org  female    1981-10-02     zuwena     mungugeo   772 162632   \n",
      "3  rec-1609-org  female    1927-07-19    zuraika  akantambira   772 837692   \n",
      "4  rec-2802-org    male                   zulfas     nyanchwo   782 855101   \n",
      "\n",
      "       uganda_nin  art_number  \n",
      "0  CF21927470OWMT  KMC-819708  \n",
      "1  CF68167355NUZY  KUB-176148  \n",
      "2  CF50136842UQFQ  MBA-746695  \n",
      "3  CF68008770HZML  KMC-270901  \n",
      "4  CM25736526XWGC  KSG-830566  \n"
     ]
    }
   ],
   "source": [
    "# some cleaning\n",
    "df_a['rec_id'] = df_a['rec_id'].str.strip()\n",
    "df_a['sex'] = df_a['sex'].str.strip()\n",
    "df_a['given_name'] = df_a['given_name'].str.strip()\n",
    "df_a['surname'] = df_a['surname'].str.strip()\n",
    "df_a['date_of_birth'] = df_a['date_of_birth'].str.strip()\n",
    "df_a['phone_number'] = df_a['phone_number'].str.strip()\n",
    "df_a['uganda_nin'] = df_a['uganda_nin'].str.strip()\n",
    "df_a['art_number'] = df_a['art_number'].str.strip()\n",
    "\n",
    "df_a['sex']= df_a['sex'].replace('f', 'female')\n",
    "df_a['sex']= df_a['sex'].replace('m', 'male')\n",
    "print(df_a['sex'].value_counts())\n",
    "\n",
    "# fhirclient validates and some birthdate fields are empty/improperly formatted\n",
    "# remove non-digits\n",
    "df_a['date_of_birth'] = df_a['date_of_birth'].str.extract('(\\d+)', expand=False)\n",
    "# force into datetime (coerce has benefit that it removes anything outside of 8 digits)\n",
    "df_a['date_of_birth'] =  pd.to_datetime(df_a['date_of_birth'], errors='coerce')\n",
    "# now back into str or fhirdate will complain\n",
    "df_a['date_of_birth'] = df_a['date_of_birth'].apply(lambda x: x.strftime('%Y-%m-%d')if not pd.isnull(x) else '')\n",
    "\n",
    "print(df_a.head())"
   ]
  },
  {
   "cell_type": "code",
   "execution_count": 7,
   "metadata": {},
   "outputs": [
    {
     "name": "stdout",
     "output_type": "stream",
     "text": [
      "0 Patient/53eddeb0-2fb1-4494-8b51-d2e667b962f2  |  1.3 ms\n",
      "1 Patient/16e4cb00-847f-49af-b624-4b0357d6c897  |  1.5 ms\n",
      "2 Patient/dd4766a5-cfed-4914-b650-6b49a99ccc06  |  1.1 ms\n"
     ]
    }
   ],
   "source": [
    "# default server/path\n",
    "server = \"https://localhost:3000/Patient\"\n",
    "# 3 records, modify if more are required\n",
    "limit = 3\n",
    "for index, row in itertools.islice(df_a.iterrows(), limit):\n",
    "# for index, row in df_a.iterrows():\n",
    "    patient = p.Patient() # not using rec_id as pandas id, leaving empty\n",
    "    patient.gender = row['sex']\n",
    "    name = hn.HumanName()\n",
    "    name.given = [row['given_name']]\n",
    "    name.family = row['surname']\n",
    "    name.use = 'official'\n",
    "    patient.name = [name]\n",
    "    phone = cp.ContactPoint()\n",
    "    phone.system = 'phone'\n",
    "    phone.value = row['phone_number']\n",
    "    patient.telecom = [phone]\n",
    "    patient.birthDate = fd.FHIRDate(row['date_of_birth'])\n",
    "    emr = ident.Identifier()\n",
    "    emr.system = 'http://clientregistry.org/openmrs'\n",
    "    emr.value = row['rec_id']\n",
    "    art = ident.Identifier()\n",
    "    art.system = 'http://system1/artnumber'\n",
    "    art.value = row['art_number']\n",
    "    nin = ident.Identifier()\n",
    "    nin.system = 'http://system1/nationalid'\n",
    "    nin.value = row['uganda_nin']\n",
    "    patient.identifier = [emr, art, nin]\n",
    "    # print(json.dumps(patient.as_json()))\n",
    "\n",
    "    headers = {'Content-Type': 'application/json'}\n",
    "    start = time.time()\n",
    "    response = post(server, headers=headers, data=json.dumps(patient.as_json()), \n",
    "                    pkcs12_filename=clientcert, pkcs12_password='', verify=servercert)\n",
    "    end = time.time()\n",
    "    print(index, response.headers['location'], \" | \", round((end - start), 1), \"ms\") # response.headers['Date']\n",
    "    # print(response.headers)\n"
   ]
  },
  {
   "cell_type": "code",
   "execution_count": null,
   "metadata": {},
   "outputs": [],
   "source": []
  }
 ],
 "metadata": {
  "kernelspec": {
   "display_name": "Python 3",
   "language": "python",
   "name": "python3"
  },
  "language_info": {
   "codemirror_mode": {
    "name": "ipython",
    "version": 3
   },
   "file_extension": ".py",
   "mimetype": "text/x-python",
   "name": "python",
   "nbconvert_exporter": "python",
   "pygments_lexer": "ipython3",
   "version": "3.7.7"
  }
 },
 "nbformat": 4,
 "nbformat_minor": 4
}
