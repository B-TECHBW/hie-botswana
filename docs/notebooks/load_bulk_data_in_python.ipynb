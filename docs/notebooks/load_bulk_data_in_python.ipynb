{
 "cells": [
  {
   "cell_type": "markdown",
   "metadata": {},
   "source": [
    "# Load bulk data in Python\n",
    "\n",
    "This example is available in the Jupyter notebook at: [github.com/intrahealth/client-registry-docs/docs/notebooks/load_bulk_data_in_python.ipynb](https://github.com/intrahealth/client-registry-docs/blob/master/docs/notebooks/simple_query.ipynb)"
   ]
  },
  {
   "cell_type": "code",
   "execution_count": 1,
   "metadata": {},
   "outputs": [],
   "source": [
    "#!/usr/bin/env python3\n",
    "from pathlib import Path\n",
    "from requests_pkcs12 import get, post\n",
    "import pandas as pd\n",
    "import numpy as np\n",
    "\n",
    "import recordlinkage\n",
    "\n",
    "import fhirclient.models.patient as p\n",
    "import fhirclient.models.humanname as hn\n",
    "import fhirclient.models.contactpoint as cp\n",
    "import fhirclient.models.fhirdate as fd\n",
    "import fhirclient.models.identifier as ident\n",
    "from fhirclient import client\n",
    "\n",
    "import json\n",
    "import time\n",
    "import itertools\n",
    "\n",
    "# suppress warning: \"Certificate for localhost has no `subjectAltName`, falling back to check for a `commonName` for now\"\n",
    "import urllib3\n",
    "urllib3.disable_warnings(urllib3.exceptions.SubjectAltNameWarning)"
   ]
  },
  {
   "cell_type": "code",
   "execution_count": 2,
   "metadata": {},
   "outputs": [
    {
     "name": "stdout",
     "output_type": "stream",
     "text": [
      "Pandas version: 1.0.3 \n",
      "\n",
      "Python Record Linkage version: 0.14 \n",
      "\n",
      "Numpy version: 1.18.4 \n",
      "\n",
      "FHIR client version: 3.2.0 \n",
      "\n"
     ]
    }
   ],
   "source": [
    "# versions\n",
    "print(\"Pandas version: {0}\".format(pd.__version__),'\\n')\n",
    "print(\"Python Record Linkage version: {0}\".format(recordlinkage._version.get_versions()['version']),'\\n')\n",
    "print(\"Numpy version: {0}\".format(np.__version__),'\\n')\n",
    "print(\"FHIR client version: {0}\".format(client.__version__),'\\n')"
   ]
  },
  {
   "cell_type": "code",
   "execution_count": 3,
   "metadata": {},
   "outputs": [],
   "source": [
    "# path to your git clone of github.com/intrahealth/client-registry\n",
    "crhome = Path.home() / 'src' / 'github.com' / 'intrahealth' / 'client-registry'\n",
    "clientcert = crhome / 'server' / 'sampleclientcertificates' / 'openmrs.p12'\n",
    "servercert = crhome / 'server' / 'certificates' / 'server_cert.pem'\n",
    "csv_file = crhome / 'tests' / 'uganda_data_v21_20201501.csv'"
   ]
  },
  {
   "cell_type": "code",
   "execution_count": 4,
   "metadata": {},
   "outputs": [
    {
     "name": "stdout",
     "output_type": "stream",
     "text": [
      "Number of records : 5000\n",
      "         rec_id sex date_of_birth given_name       surname phone_number  \\\n",
      "0  rec-2762-org   f      19671207     zuwena         acile   712 300633   \n",
      "1  rec-2009-org   f      19761028     zuwena        lusike   772 614594   \n",
      "2  rec-3269-org   f      19811002     zuwena      mungugeo   772 162632   \n",
      "3  rec-1609-org   f      19270719    zuraika   akantambira   772 837692   \n",
      "4  rec-2802-org   m                   zulfas      nyanchwo   782 855101   \n",
      "\n",
      "       uganda_nin   art_number  \n",
      "0  CF21927470OWMT   KMC-819708  \n",
      "1  CF68167355NUZY   KUB-176148  \n",
      "2  CF50136842UQFQ   MBA-746695  \n",
      "3  CF68008770HZML   KMC-270901  \n",
      "4  CM25736526XWGC   KSG-830566  \n"
     ]
    }
   ],
   "source": [
    "df_a = pd.read_csv(csv_file)\n",
    "# df_a = df_a.set_index('rec_id')\n",
    "print('Number of records :', len(df_a))\n",
    "print(df_a.head())"
   ]
  },
  {
   "cell_type": "code",
   "execution_count": 5,
   "metadata": {},
   "outputs": [
    {
     "name": "stdout",
     "output_type": "stream",
     "text": [
      "female    3224\n",
      "           963\n",
      "male       809\n",
      "d            1\n",
      "r            1\n",
      "q            1\n",
      "k            1\n",
      "Name: sex, dtype: int64\n",
      "         rec_id     sex date_of_birth given_name      surname phone_number  \\\n",
      "0  rec-2762-org  female    1967-12-07     zuwena        acile   712 300633   \n",
      "1  rec-2009-org  female    1976-10-28     zuwena       lusike   772 614594   \n",
      "2  rec-3269-org  female    1981-10-02     zuwena     mungugeo   772 162632   \n",
      "3  rec-1609-org  female    1927-07-19    zuraika  akantambira   772 837692   \n",
      "4  rec-2802-org    male                   zulfas     nyanchwo   782 855101   \n",
      "\n",
      "       uganda_nin  art_number  \n",
      "0  CF21927470OWMT  KMC-819708  \n",
      "1  CF68167355NUZY  KUB-176148  \n",
      "2  CF50136842UQFQ  MBA-746695  \n",
      "3  CF68008770HZML  KMC-270901  \n",
      "4  CM25736526XWGC  KSG-830566  \n"
     ]
    }
   ],
   "source": [
    "# some cleaning\n",
    "df_a['rec_id'] = df_a['rec_id'].str.strip()\n",
    "df_a['sex'] = df_a['sex'].str.strip()\n",
    "df_a['given_name'] = df_a['given_name'].str.strip()\n",
    "df_a['surname'] = df_a['surname'].str.strip()\n",
    "df_a['date_of_birth'] = df_a['date_of_birth'].str.strip()\n",
    "df_a['phone_number'] = df_a['phone_number'].str.strip()\n",
    "df_a['uganda_nin'] = df_a['uganda_nin'].str.strip()\n",
    "df_a['art_number'] = df_a['art_number'].str.strip()\n",
    "\n",
    "df_a['sex']= df_a['sex'].replace('f', 'female')\n",
    "df_a['sex']= df_a['sex'].replace('m', 'male')\n",
    "print(df_a['sex'].value_counts())\n",
    "\n",
    "# fhirclient validates and some birthdate fields are empty/improperly formatted\n",
    "# remove non-digits\n",
    "df_a['date_of_birth'] = df_a['date_of_birth'].str.extract('(\\d+)', expand=False)\n",
    "# force into datetime (coerce has benefit that it removes anything outside of 8 digits)\n",
    "df_a['date_of_birth'] =  pd.to_datetime(df_a['date_of_birth'], errors='coerce')\n",
    "# now back into str or fhirdate will complain\n",
    "df_a['date_of_birth'] = df_a['date_of_birth'].apply(lambda x: x.strftime('%Y-%m-%d')if not pd.isnull(x) else '')\n",
    "\n",
    "print(df_a.head())"
   ]
  },
  {
   "cell_type": "code",
   "execution_count": 6,
   "metadata": {},
   "outputs": [
    {
     "name": "stdout",
     "output_type": "stream",
     "text": [
      "0 Patient/998bd085-8cac-4d80-a2dc-35dafad28140  |  2.1 ms\n",
      "1 Patient/7e5bfabb-c77d-403d-b583-14f9c04bcc4f  |  1.6 ms\n",
      "2 Patient/72a4ad32-4955-4ffc-9b6f-2ba849abcbcf  |  1.8 ms\n"
     ]
    },
    {
     "name": "stderr",
     "output_type": "stream",
     "text": [
      "Failed to initialize FHIRDate from \"\": Unrecognised ISO 8601 date format: ''\n"
     ]
    },
    {
     "name": "stdout",
     "output_type": "stream",
     "text": [
      "3 Patient/f372452d-d4e5-494d-b87b-da546e2908d7  |  1.3 ms\n",
      "4 Patient/7c743b88-04f0-4638-b12c-cb45a7604234  |  1.4 ms\n",
      "5 Patient/6299bc99-a6cf-4a37-8f31-08d7c954bcb6  |  1.5 ms\n"
     ]
    },
    {
     "name": "stderr",
     "output_type": "stream",
     "text": [
      "Failed to initialize FHIRDate from \"\": Unrecognised ISO 8601 date format: ''\n"
     ]
    },
    {
     "name": "stdout",
     "output_type": "stream",
     "text": [
      "6 Patient/b21337a7-72d2-43a7-8c4b-5c6ddc61e853  |  1.2 ms\n"
     ]
    },
    {
     "name": "stderr",
     "output_type": "stream",
     "text": [
      "Failed to initialize FHIRDate from \"\": Unrecognised ISO 8601 date format: ''\n"
     ]
    },
    {
     "name": "stdout",
     "output_type": "stream",
     "text": [
      "7 Patient/817c50fd-55fb-4bad-88ae-cfa32150cd72  |  1.4 ms\n"
     ]
    },
    {
     "name": "stderr",
     "output_type": "stream",
     "text": [
      "Failed to initialize FHIRDate from \"\": Unrecognised ISO 8601 date format: ''\n"
     ]
    },
    {
     "name": "stdout",
     "output_type": "stream",
     "text": [
      "8 Patient/ff310860-450d-49ac-9754-c4b52800258c  |  1.2 ms\n",
      "9 Patient/f21900bc-b0ac-4145-bfe5-5d2d111ac34c  |  1.0 ms\n"
     ]
    },
    {
     "name": "stderr",
     "output_type": "stream",
     "text": [
      "Failed to initialize FHIRDate from \"\": Unrecognised ISO 8601 date format: ''\n"
     ]
    },
    {
     "name": "stdout",
     "output_type": "stream",
     "text": [
      "10 Patient/2329cbf5-3bf5-44d2-87dd-a7b75dc083dd  |  1.3 ms\n",
      "11 Patient/b2f45d9a-be8a-4a98-ae0b-23bae838e2c9  |  1.1 ms\n",
      "12 Patient/4eec0f3b-39f0-43da-a68c-0f2c68b7c998  |  0.9 ms\n",
      "13 Patient/8fc2ab00-91dd-4b4b-81a8-25d7af976363  |  1.2 ms\n"
     ]
    },
    {
     "name": "stderr",
     "output_type": "stream",
     "text": [
      "Failed to initialize FHIRDate from \"\": Unrecognised ISO 8601 date format: ''\n"
     ]
    },
    {
     "name": "stdout",
     "output_type": "stream",
     "text": [
      "14 Patient/dfd9e992-92ba-4f80-839e-05e4f984a57d  |  1.0 ms\n",
      "15 Patient/c47e5989-166e-44fa-828c-837dfbd73789  |  1.0 ms\n",
      "16 Patient/cfe6500c-9ddf-466e-b14a-ba9f332ce53e  |  1.3 ms\n",
      "17 Patient/2e5ef1ad-4e46-4cd5-8af6-e4624e420a5b  |  1.1 ms\n"
     ]
    },
    {
     "name": "stderr",
     "output_type": "stream",
     "text": [
      "Failed to initialize FHIRDate from \"\": Unrecognised ISO 8601 date format: ''\n"
     ]
    },
    {
     "name": "stdout",
     "output_type": "stream",
     "text": [
      "18 Patient/3bc91e43-e4ae-4a7b-8b38-be31d98b5828  |  0.8 ms\n",
      "19 Patient/c18671b9-d986-4039-ab81-0a949b9a19a2  |  1.1 ms\n",
      "20 Patient/208a9966-94c0-4955-8d5c-11b7e22e7289  |  1.0 ms\n",
      "21 Patient/c21bc854-c1db-4ab3-a189-5d4459c5294e  |  0.8 ms\n",
      "22 Patient/dc255b83-ca8d-42c9-bc2d-3c6c5b9d0561  |  0.8 ms\n",
      "23 Patient/dc255b83-ca8d-42c9-bc2d-3c6c5b9d0561  |  1.0 ms\n"
     ]
    },
    {
     "name": "stderr",
     "output_type": "stream",
     "text": [
      "Failed to initialize FHIRDate from \"\": Unrecognised ISO 8601 date format: ''\n"
     ]
    },
    {
     "name": "stdout",
     "output_type": "stream",
     "text": [
      "24 Patient/85299742-df8a-4917-a16a-d466495b0a78  |  1.0 ms\n",
      "25 Patient/5411a1bd-2ed8-49e6-bdbf-305d36361cf6  |  1.1 ms\n",
      "26 Patient/def894a2-f86d-48da-9d1e-a37a0f88d55f  |  1.1 ms\n"
     ]
    },
    {
     "name": "stderr",
     "output_type": "stream",
     "text": [
      "Failed to initialize FHIRDate from \"\": Unrecognised ISO 8601 date format: ''\n"
     ]
    },
    {
     "name": "stdout",
     "output_type": "stream",
     "text": [
      "27 Patient/1844e0a4-8748-40dd-9914-603d5ef8a065  |  0.9 ms\n",
      "28 Patient/03ab3f55-c854-42dd-ac2f-458eedadc317  |  0.9 ms\n",
      "29 Patient/a7bc6c0c-b2a9-4a93-b445-246135c3457c  |  1.2 ms\n"
     ]
    },
    {
     "name": "stderr",
     "output_type": "stream",
     "text": [
      "Failed to initialize FHIRDate from \"\": Unrecognised ISO 8601 date format: ''\n"
     ]
    },
    {
     "name": "stdout",
     "output_type": "stream",
     "text": [
      "30 Patient/02312cad-0fcf-4af0-b256-0878bbbc8791  |  0.9 ms\n",
      "31 Patient/70540ad6-f642-4800-9bba-49fe2f723a4d  |  1.2 ms\n",
      "32 Patient/9507e691-b1c0-48a7-8997-197c40c4129a  |  1.0 ms\n"
     ]
    },
    {
     "name": "stderr",
     "output_type": "stream",
     "text": [
      "Failed to initialize FHIRDate from \"\": Unrecognised ISO 8601 date format: ''\n"
     ]
    },
    {
     "name": "stdout",
     "output_type": "stream",
     "text": [
      "33 Patient/0c816ae3-a880-4d9e-bbd9-265a6c5ac422  |  0.8 ms\n",
      "34 Patient/b5e969be-5e18-4316-b59d-3c43bd7fdf85  |  0.8 ms\n",
      "35 Patient/69901b11-cafc-4311-aa04-9c9a3c9654b7  |  1.1 ms\n",
      "36 Patient/4973cb93-3111-4d6e-9a10-ce2c6f36e4da  |  1.0 ms\n",
      "37 Patient/a5996f64-54a7-45a3-9c73-288809305413  |  0.8 ms\n",
      "38 Patient/731be98f-9cab-40cf-9897-e2a220d95eab  |  1.1 ms\n",
      "39 Patient/738b656d-1654-4341-893b-ce8743240974  |  0.9 ms\n",
      "40 Patient/478d11de-006e-43ce-aadc-b2a55e6f7e96  |  1.1 ms\n",
      "41 Patient/d88cb8fa-4055-4215-8f88-36a65ae41f87  |  0.9 ms\n",
      "42 Patient/44b448f1-6765-477d-b2f7-3556fb57fc7a  |  0.9 ms\n",
      "43 Patient/8e42ebd7-3037-4c1a-9bb3-278c70b2dde0  |  1.0 ms\n",
      "44 Patient/8c97acdb-ccd1-4ccd-a8c8-ed8f827d6dd7  |  1.2 ms\n",
      "45 Patient/b6c88343-822c-4443-91c1-0f45e5eb3906  |  0.7 ms\n",
      "46 Patient/cd88762c-e116-472d-b05e-8ba7d6d7c81c  |  0.9 ms\n",
      "47 Patient/11603220-0e66-4b0e-a5ff-a4635a91f16d  |  1.0 ms\n"
     ]
    },
    {
     "name": "stderr",
     "output_type": "stream",
     "text": [
      "Failed to initialize FHIRDate from \"\": Unrecognised ISO 8601 date format: ''\n"
     ]
    },
    {
     "name": "stdout",
     "output_type": "stream",
     "text": [
      "48 Patient/b3322a33-3374-486b-96b5-9a88883d4515  |  0.9 ms\n",
      "49 Patient/a16d8e5d-7304-4b3b-8462-548efc1faac4  |  1.1 ms\n",
      "50 Patient/92720ee1-2e2e-49c6-a971-1a9bcc669902  |  1.1 ms\n",
      "51 Patient/30c9d4e9-dd00-476e-beb0-4f4ba95f7cd9  |  0.9 ms\n",
      "52 Patient/92720ee1-2e2e-49c6-a971-1a9bcc669902  |  0.7 ms\n",
      "53 Patient/3f399446-e624-4e89-94ac-1f46e2a612c1  |  1.1 ms\n",
      "54 Patient/e4f323cd-3c01-4b5e-b612-a2bbe188d865  |  0.8 ms\n",
      "55 Patient/c23c89db-5660-4839-840b-eb0a77e2f49d  |  1.0 ms\n",
      "56 Patient/d2393b8d-ed7a-4eb9-b1ab-c70460146a4f  |  1.2 ms\n",
      "57 Patient/b6010023-5162-473c-a4e1-56e1b348087e  |  1.0 ms\n",
      "58 Patient/3843a23b-4ae7-4592-9b4a-a966e22d8fc9  |  0.9 ms\n",
      "59 Patient/7212d479-d306-4568-8013-e59ee8913dd7  |  1.1 ms\n"
     ]
    },
    {
     "name": "stderr",
     "output_type": "stream",
     "text": [
      "Failed to initialize FHIRDate from \"\": Unrecognised ISO 8601 date format: ''\n"
     ]
    },
    {
     "name": "stdout",
     "output_type": "stream",
     "text": [
      "60 Patient/6ff08c0c-d0fb-4eda-96ad-91ece4f207ca  |  0.8 ms\n"
     ]
    },
    {
     "name": "stderr",
     "output_type": "stream",
     "text": [
      "Failed to initialize FHIRDate from \"\": Unrecognised ISO 8601 date format: ''\n"
     ]
    },
    {
     "name": "stdout",
     "output_type": "stream",
     "text": [
      "61 Patient/f3f62e4d-1b4d-453d-9ea3-c66ce2ad1f20  |  0.9 ms\n",
      "62 Patient/e321c2dd-96e7-4c6d-ba36-6fa71b63ae0a  |  1.1 ms\n",
      "63 Patient/92b9eb21-0b30-4b49-b611-a3830c233612  |  0.9 ms\n",
      "64 Patient/92b9eb21-0b30-4b49-b611-a3830c233612  |  0.7 ms\n",
      "65 Patient/47318447-2d0a-473d-a31e-6cf92619a4e6  |  1.0 ms\n",
      "66 Patient/acd8f41e-3285-447d-a4d0-af6a440b329e  |  1.0 ms\n",
      "67 Patient/4b2414e5-177a-45dd-9820-e0208212b517  |  0.8 ms\n",
      "68 Patient/2f6365b6-861e-411e-b429-2d579ab5bd04  |  1.0 ms\n"
     ]
    },
    {
     "name": "stderr",
     "output_type": "stream",
     "text": [
      "Failed to initialize FHIRDate from \"\": Unrecognised ISO 8601 date format: ''\n"
     ]
    },
    {
     "name": "stdout",
     "output_type": "stream",
     "text": [
      "69 Patient/2f6365b6-861e-411e-b429-2d579ab5bd04  |  1.0 ms\n"
     ]
    },
    {
     "name": "stderr",
     "output_type": "stream",
     "text": [
      "Failed to initialize FHIRDate from \"\": Unrecognised ISO 8601 date format: ''\n"
     ]
    },
    {
     "name": "stdout",
     "output_type": "stream",
     "text": [
      "70 Patient/213c6b3d-5d13-4ad9-b6b4-ab2ceaee324a  |  0.8 ms\n",
      "71 Patient/3576d266-c676-43ea-9023-bb11c11b2b6b  |  0.9 ms\n",
      "72 Patient/59369ae7-a50f-4c88-8fa0-7cd30e317d7e  |  0.9 ms\n",
      "73 Patient/d78ca73d-e8ff-4bd6-a505-ef929161fda6  |  0.7 ms\n",
      "74 Patient/70277660-d1ec-4fe2-9853-50ad88cc5f7a  |  0.8 ms\n"
     ]
    },
    {
     "name": "stderr",
     "output_type": "stream",
     "text": [
      "Failed to initialize FHIRDate from \"\": Unrecognised ISO 8601 date format: ''\n"
     ]
    },
    {
     "name": "stdout",
     "output_type": "stream",
     "text": [
      "75 Patient/59369ae7-a50f-4c88-8fa0-7cd30e317d7e  |  0.7 ms\n",
      "76 Patient/70277660-d1ec-4fe2-9853-50ad88cc5f7a  |  1.2 ms\n",
      "77 Patient/1261bb98-582e-45cc-8a19-ec172c6c6f4f  |  1.3 ms\n",
      "78 Patient/9c912e01-5e34-471a-b6c1-b650cc6c2601  |  1.2 ms\n",
      "79 Patient/d6bc698f-6af2-4578-ad12-ba0bd9d14ed4  |  0.8 ms\n",
      "80 Patient/1261bb98-582e-45cc-8a19-ec172c6c6f4f  |  1.2 ms\n",
      "81 Patient/e5426498-f107-447c-ab01-b0b4008732aa  |  0.9 ms\n",
      "82 Patient/3f6ddd3e-f4fd-45f6-9c60-c16904d9f0aa  |  0.7 ms\n",
      "83 Patient/a933a54d-e34e-485e-9c95-6cb54f4f2533  |  1.5 ms\n",
      "84 Patient/609660b5-c1aa-409f-bd9a-cc3d7dac6384  |  1.2 ms\n",
      "85 Patient/c622e666-fdf6-4d61-a853-3e33d49e2d11  |  0.9 ms\n"
     ]
    },
    {
     "name": "stderr",
     "output_type": "stream",
     "text": [
      "Failed to initialize FHIRDate from \"\": Unrecognised ISO 8601 date format: ''\n"
     ]
    },
    {
     "name": "stdout",
     "output_type": "stream",
     "text": [
      "86 Patient/86b01ded-7acd-49d8-90e0-63e25662188a  |  1.1 ms\n",
      "87 Patient/6672ce4d-190a-4be0-9afa-11340b34f9c7  |  1.8 ms\n",
      "88 Patient/50f359c6-cb99-4a7e-a466-ec97b80225fc  |  0.8 ms\n",
      "89 Patient/2cf7014c-6a88-42d0-951f-f24375e9c249  |  0.9 ms\n",
      "90 Patient/f60e5b30-921d-4ca9-b5a8-c00574049ae3  |  1.0 ms\n",
      "91 Patient/b9e04ae8-0ca2-4c50-b122-5e57448e0d38  |  1.1 ms\n",
      "92 Patient/4bf4445a-8026-432f-a6ca-f9d277ff7d11  |  1.0 ms\n",
      "93 Patient/d34127e7-cc18-43df-b45b-12679c286d5d  |  0.8 ms\n",
      "94 Patient/4bf4445a-8026-432f-a6ca-f9d277ff7d11  |  1.2 ms\n",
      "95 Patient/a2ed2adf-bb3f-40e5-a05d-c99c89eb3ed5  |  0.9 ms\n",
      "96 Patient/7fbe823f-5a44-4ef8-9728-98e27f00d038  |  0.8 ms\n",
      "97 Patient/7506a352-2486-452d-be15-25a40838a48e  |  0.7 ms\n",
      "98 Patient/54309891-fa19-489e-bb0f-e95360bb7ee0  |  0.8 ms\n",
      "99 Patient/71e25c0b-1eb3-4739-9264-80e2971dc581  |  0.7 ms\n"
     ]
    }
   ],
   "source": [
    "# default server/path\n",
    "server = \"https://localhost:3000/Patient\"\n",
    "# 3 records, modify if more are required\n",
    "limit = 100\n",
    "for index, row in itertools.islice(df_a.iterrows(), limit):\n",
    "# for index, row in df_a.iterrows():\n",
    "    patient = p.Patient() # not using rec_id as pandas id, leaving empty\n",
    "    patient.gender = row['sex']\n",
    "    name = hn.HumanName()\n",
    "    name.given = [row['given_name']]\n",
    "    name.family = row['surname']\n",
    "    name.use = 'official'\n",
    "    patient.name = [name]\n",
    "    phone = cp.ContactPoint()\n",
    "    phone.system = 'phone'\n",
    "    phone.value = row['phone_number']\n",
    "    patient.telecom = [phone]\n",
    "    patient.birthDate = fd.FHIRDate(row['date_of_birth'])\n",
    "    emr = ident.Identifier()\n",
    "    emr.system = 'http://clientregistry.org/openmrs'\n",
    "    emr.value = row['rec_id']\n",
    "    art = ident.Identifier()\n",
    "    art.system = 'http://system1/artnumber'\n",
    "    art.value = row['art_number']\n",
    "    nin = ident.Identifier()\n",
    "    nin.system = 'http://system1/nationalid'\n",
    "    nin.value = row['uganda_nin']\n",
    "    patient.identifier = [emr, art, nin]\n",
    "    # print(json.dumps(patient.as_json()))\n",
    "\n",
    "    headers = {'Content-Type': 'application/json'}\n",
    "    start = time.time()\n",
    "    response = post(server, headers=headers, data=json.dumps(patient.as_json()), \n",
    "                    pkcs12_filename=clientcert, pkcs12_password='', verify=servercert)\n",
    "    end = time.time()\n",
    "    print(index, response.headers['location'], \" | \", round((end - start), 1), \"ms\") # response.headers['Date']\n",
    "    # print(response.headers)\n"
   ]
  },
  {
   "cell_type": "code",
   "execution_count": null,
   "metadata": {},
   "outputs": [],
   "source": []
  }
 ],
 "metadata": {
  "kernelspec": {
   "display_name": "Python 3",
   "language": "python",
   "name": "python3"
  },
  "language_info": {
   "codemirror_mode": {
    "name": "ipython",
    "version": 3
   },
   "file_extension": ".py",
   "mimetype": "text/x-python",
   "name": "python",
   "nbconvert_exporter": "python",
   "pygments_lexer": "ipython3",
   "version": "3.7.7"
  }
 },
 "nbformat": 4,
 "nbformat_minor": 4
}
