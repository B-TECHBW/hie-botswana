{
 "cells": [
  {
   "cell_type": "markdown",
   "metadata": {},
   "source": [
    "### Duplicate a simple cURL query in Python.\n",
    "\n",
    "This example is available in the Jupyter notebook at: [github.com/intrahealth/client-registry-docs/notebooks/simple_query_in_python.ipynb](https://github.com/intrahealth/client-registry-docs/blob/master/notebooks/simple_query_in_python.ipynb.ipynb)\n",
    "\n",
    "```sh\n",
    "curl --cert sampleclientcertificates/openmrs.p12 --cert-type p12 --cacert certificates/server_cert.pem -d @/Users/richard/src/github.com/openhie/client-registry/DemoData/patient1_openmrs.json -H \"Content-Type: application/json\" -XPOST https://localhost:3000/Patient\n",
    "```"
   ]
  },
  {
   "cell_type": "code",
   "execution_count": 1,
   "metadata": {},
   "outputs": [],
   "source": [
    "#!/usr/bin/env python3\n",
    "from pathlib import Path\n",
    "# import requests\n",
    "from requests_pkcs12 import get, post"
   ]
  },
  {
   "cell_type": "code",
   "execution_count": 2,
   "metadata": {},
   "outputs": [],
   "source": [
    "# path to your git clone of github.com/intrahealth/client-registry\n",
    "crhome = Path.home() / 'src' / 'github.com' / 'intrahealth' / 'client-registry'\n",
    "clientcert = crhome / 'server' / 'sampleclientcertificates' / 'openmrs.p12'\n",
    "servercert = crhome / 'server' / 'certificates' / 'server_cert.pem'\n",
    "csv_file = crhome / 'tests' / 'uganda_data_v21_20201501.csv'\n",
    "payload_bytes = crhome / 'DemoData' / 'patient1_openmrs.json'\n",
    "payload = open(payload_bytes)"
   ]
  },
  {
   "cell_type": "code",
   "execution_count": null,
   "metadata": {
    "scrolled": true
   },
   "outputs": [],
   "source": [
    "server = 'https://167.172.131.240:3000/Patient'\n",
    "headers = {'Content-Type': 'application/json'}\n",
    "response = post(server, headers=headers, data=payload, \n",
    "                pkcs12_filename=clientcert, \n",
    "                pkcs12_password='', \n",
    "                verify=servercert)"
   ]
  },
  {
   "cell_type": "code",
   "execution_count": 24,
   "metadata": {},
   "outputs": [
    {
     "name": "stdout",
     "output_type": "stream",
     "text": [
      "Patient/fcc515ce-05eb-4648-b916-2dc32ec71df8\n"
     ]
    }
   ],
   "source": [
    "print(response.headers['location'])"
   ]
  },
  {
   "cell_type": "code",
   "execution_count": null,
   "metadata": {},
   "outputs": [],
   "source": []
  }
 ],
 "metadata": {
  "kernelspec": {
   "display_name": "Python 3",
   "language": "python",
   "name": "python3"
  },
  "language_info": {
   "codemirror_mode": {
    "name": "ipython",
    "version": 3
   },
   "file_extension": ".py",
   "mimetype": "text/x-python",
   "name": "python",
   "nbconvert_exporter": "python",
   "pygments_lexer": "ipython3",
   "version": "3.7.7"
  }
 },
 "nbformat": 4,
 "nbformat_minor": 4
}
