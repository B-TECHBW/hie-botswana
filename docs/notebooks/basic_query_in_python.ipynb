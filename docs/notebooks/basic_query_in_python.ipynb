{
 "cells": [
  {
   "cell_type": "markdown",
   "metadata": {},
   "source": [
    "### Duplicate a simple cURL query in Python.\n",
    "\n",
    "This example is available in the Jupyter notebook at: [github.com/intrahealth/client-registry-docs/notebooks/simple_query_in_python.ipynb](https://github.com/intrahealth/client-registry-docs/blob/master/notebooks/simple_query_in_python.ipynb.ipynb)\n",
    "\n",
    "```sh\n",
    "curl --cert sampleclientcertificates/openmrs.p12 --cert-type p12 --cacert certificates/server_cert.pem -d @/Users/richard/src/github.com/openhie/client-registry/DemoData/patient1_openmrs.json -H \"Content-Type: application/json\" -XPOST https://localhost:3000/Patient\n",
    "```"
   ]
  },
  {
   "cell_type": "code",
   "execution_count": 1,
   "metadata": {},
   "outputs": [],
   "source": [
    "#!/usr/bin/env python3\n",
    "from pathlib import Path\n",
    "# import requests\n",
    "from requests_pkcs12 import get, post"
   ]
  },
  {
   "cell_type": "code",
   "execution_count": 2,
   "metadata": {},
   "outputs": [],
   "source": [
    "# path to your git clone of github.com/intrahealth/client-registry\n",
    "crhome = Path.home() / 'src' / 'github.com' / 'intrahealth' / 'client-registry'\n",
    "clientcert = crhome / 'server' / 'sampleclientcertificates' / 'openmrs.p12'\n",
    "servercert = crhome / 'server' / 'certificates' / 'server_cert.pem'\n",
    "csv_file = crhome / 'tests' / 'uganda_data_v21_20201501.csv'\n",
    "payload_bytes = crhome / 'DemoData' / 'patient1_openmrs.json'\n",
    "payload = open(payload_bytes)"
   ]
  },
  {
   "cell_type": "code",
   "execution_count": 3,
   "metadata": {
    "scrolled": true
   },
   "outputs": [
    {
     "name": "stderr",
     "output_type": "stream",
     "text": [
      "/usr/local/lib/python3.7/site-packages/urllib3/connection.py:394: SubjectAltNameWarning: Certificate for localhost has no `subjectAltName`, falling back to check for a `commonName` for now. This feature is being removed by major browsers and deprecated by RFC 2818. (See https://github.com/urllib3/urllib3/issues/497 for details.)\n",
      "  SubjectAltNameWarning,\n"
     ]
    }
   ],
   "source": [
    "server = 'https://localhost:3000/Patient'\n",
    "headers = {'Content-Type': 'application/json'}\n",
    "response = post(server, headers=headers, data=payload, \n",
    "                pkcs12_filename=clientcert, \n",
    "                pkcs12_password='', \n",
    "                verify=servercert)"
   ]
  },
  {
   "cell_type": "code",
   "execution_count": 4,
   "metadata": {},
   "outputs": [
    {
     "name": "stdout",
     "output_type": "stream",
     "text": [
      "Patient/d240c89e-b34f-4394-95a6-05fe11654998\n"
     ]
    }
   ],
   "source": [
    "print(response.headers['location'])"
   ]
  },
  {
   "cell_type": "code",
   "execution_count": null,
   "metadata": {},
   "outputs": [],
   "source": []
  }
 ],
 "metadata": {
  "kernelspec": {
   "display_name": "Python 3",
   "language": "python",
   "name": "python3"
  },
  "language_info": {
   "codemirror_mode": {
    "name": "ipython",
    "version": 3
   },
   "file_extension": ".py",
   "mimetype": "text/x-python",
   "name": "python",
   "nbconvert_exporter": "python",
   "pygments_lexer": "ipython3",
   "version": "3.7.7"
  }
 },
 "nbformat": 4,
 "nbformat_minor": 4
}
