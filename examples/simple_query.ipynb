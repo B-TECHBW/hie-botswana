{
 "cells": [
  {
   "cell_type": "code",
   "execution_count": null,
   "metadata": {},
   "outputs": [],
   "source": [
    "#!/usr/bin/env python3\n",
    "from pathlib import Path\n",
    "# import requests\n",
    "from requests_pkcs12 import get, post"
   ]
  },
  {
   "cell_type": "markdown",
   "metadata": {},
   "source": [
    "### Duplicate a simple cURL query in Python.\n",
    "```sh\n",
    "curl --cert sampleclientcertificates/openmrs.p12 --cert-type p12 --cacert certificates/server_cert.pem -d @/Users/richard/src/github.com/openhie/client-registry/DemoData/patient1_openmrs.json -H \"Content-Type: application/json\" -XPOST https://localhost:3000/Patient\n",
    "```"
   ]
  },
  {
   "cell_type": "code",
   "execution_count": null,
   "metadata": {},
   "outputs": [],
   "source": [
    "# This example assumes running from this folder in the repo\n",
    "clientcert_folder = Path(\"../server/sampleclientcertificates\")\n",
    "clientcert = clientcert_folder / \"openmrs.p12\"\n",
    "\n",
    "servercert_folder = Path(\"../server/certificates\")\n",
    "servercert = servercert_folder / \"server_cert.pem\"\n",
    "\n",
    "payload_folder = Path(\"../DemoData/\")\n",
    "payload_bytes = payload_folder / \"patient1_openmrs.json\"\n",
    "payload = open(payload_bytes)"
   ]
  },
  {
   "cell_type": "code",
   "execution_count": null,
   "metadata": {},
   "outputs": [],
   "source": [
    "headers = {'Content-Type': 'application/json'}\n",
    "response = post(\"https://localhost:3000/Patient\", headers=headers, data=payload, \n",
    "                pkcs12_filename=clientcert, \n",
    "                pkcs12_password='', \n",
    "                verify=servercert)"
   ]
  },
  {
   "cell_type": "code",
   "execution_count": null,
   "metadata": {},
   "outputs": [],
   "source": [
    "print(response.headers['location'])"
   ]
  }
 ],
 "metadata": {
  "kernelspec": {
   "display_name": "Python 3",
   "language": "python",
   "name": "python3"
  },
  "language_info": {
   "codemirror_mode": {
    "name": "ipython",
    "version": 3
   },
   "file_extension": ".py",
   "mimetype": "text/x-python",
   "name": "python",
   "nbconvert_exporter": "python",
   "pygments_lexer": "ipython3",
   "version": "3.7.7"
  }
 },
 "nbformat": 4,
 "nbformat_minor": 4
}
