{
 "cells": [
  {
   "cell_type": "code",
   "execution_count": null,
   "metadata": {},
   "outputs": [],
   "source": [
    "#!/usr/bin/env python3\n",
    "from pathlib import Path\n",
    "from requests_pkcs12 import get, post\n",
    "import pandas as pd\n",
    "import numpy as np\n",
    "\n",
    "import recordlinkage\n",
    "\n",
    "import fhirclient.models.patient as p\n",
    "import fhirclient.models.humanname as hn\n",
    "import fhirclient.models.contactpoint as cp\n",
    "import fhirclient.models.fhirdate as fd\n",
    "import fhirclient.models.identifier as ident\n",
    "\n",
    "import json\n",
    "import time\n",
    "\n",
    "# suppress warning: \"Certificate for localhost has no `subjectAltName`, falling back to check for a `commonName` for now\"\n",
    "import urllib3\n",
    "urllib3.disable_warnings(urllib3.exceptions.SubjectAltNameWarning)"
   ]
  },
  {
   "cell_type": "code",
   "execution_count": null,
   "metadata": {},
   "outputs": [],
   "source": [
    "# versions\n",
    "print(\"Pandas version: {0}\".format(pd.__version__),'\\n')\n",
    "print(\"Python Record Linkage version: {0}\".format(recordlinkage._version.get_versions()['version']),'\\n')\n",
    "print(\"Numpy version: {0}\".format(np.__version__),'\\n')\n",
    "print(\"FHIR client version: {0}\".format(client.__version__),'\\n')"
   ]
  },
  {
   "cell_type": "code",
   "execution_count": null,
   "metadata": {},
   "outputs": [],
   "source": [
    "# This example assumes running from this folder in the repo\n",
    "clientcert_folder = Path(\"../server/sampleclientcertificates\")\n",
    "clientcert = clientcert_folder / \"openmrs.p12\"\n",
    "\n",
    "servercert_folder = Path(\"../server/certificates\")\n",
    "servercert = servercert_folder / \"server_cert.pem\"\n",
    "\n",
    "csv_folder = Path(\"../tests\")\n",
    "csv_file = csv_folder / \"uganda_data_v21_20201501.csv\""
   ]
  },
  {
   "cell_type": "code",
   "execution_count": null,
   "metadata": {},
   "outputs": [],
   "source": [
    "df_a = pd.read_csv(csv_file)\n",
    "# df_a = df_a.set_index('rec_id')\n",
    "print('Number of records :', len(df_a))\n",
    "print(df_a.head())"
   ]
  },
  {
   "cell_type": "code",
   "execution_count": null,
   "metadata": {},
   "outputs": [],
   "source": [
    "# some cleaning\n",
    "df_a['rec_id'] = df_a['rec_id'].str.strip()\n",
    "df_a['sex'] = df_a['sex'].str.strip()\n",
    "df_a['given_name'] = df_a['given_name'].str.strip()\n",
    "df_a['surname'] = df_a['surname'].str.strip()\n",
    "df_a['date_of_birth'] = df_a['date_of_birth'].str.strip()\n",
    "df_a['phone_number'] = df_a['phone_number'].str.strip()\n",
    "df_a['uganda_nin'] = df_a['uganda_nin'].str.strip()\n",
    "df_a['art_number'] = df_a['art_number'].str.strip()\n",
    "\n",
    "df_a['sex']= df_a['sex'].replace('f', 'female')\n",
    "df_a['sex']= df_a['sex'].replace('m', 'male')\n",
    "print(df_a['sex'].value_counts())\n",
    "\n",
    "# fhirclient validates and some birthdate fields are empty/improperly formatted\n",
    "# remove non-digits\n",
    "df_a['date_of_birth'] = df_a['date_of_birth'].str.extract('(\\d+)', expand=False)\n",
    "# force into datetime (coerce has benefit that it removes anything outside of 8 digits)\n",
    "df_a['date_of_birth'] =  pd.to_datetime(df_a['date_of_birth'], errors='coerce')\n",
    "# now back into str or fhirdate will complain\n",
    "df_a['date_of_birth'] = df_a['date_of_birth'].apply(lambda x: x.strftime('%Y-%m-%d')if not pd.isnull(x) else '')\n",
    "\n",
    "print(df_a.head())"
   ]
  },
  {
   "cell_type": "code",
   "execution_count": null,
   "metadata": {},
   "outputs": [],
   "source": [
    "for index, row in df_a.iterrows():\n",
    "    patient = p.Patient() # not using rec_id as pandas id, leaving empty\n",
    "    patient.gender = row['sex']\n",
    "    name = hn.HumanName()\n",
    "    name.given = [row['given_name']]\n",
    "    name.family = row['surname']\n",
    "    patient.name = [name]\n",
    "    phone = cp.ContactPoint()\n",
    "    phone.system = 'phone'\n",
    "    phone.value = row['phone_number']\n",
    "    patient.telecom = [phone]\n",
    "    patient.birthDate = fd.FHIRDate(row['date_of_birth'])\n",
    "    emr = ident.Identifier()\n",
    "    emr.system = 'http://clientregistry.org/openmrs'\n",
    "    emr.value = row['rec_id']\n",
    "    art = ident.Identifier()\n",
    "    art.system = 'http://system1/artnumber'\n",
    "    art.value = row['art_number']\n",
    "    nin = ident.Identifier()\n",
    "    nin.system = 'http://system1/nationalid'\n",
    "    nin.value = row['uganda_nin']\n",
    "    patient.identifier = [emr, art, nin]\n",
    "    # print(json.dumps(patient.as_json()))\n",
    "\n",
    "    headers = {'Content-Type': 'application/json'}\n",
    "    start = time.time()\n",
    "    response = post(\"https://localhost:3000/Patient\", headers=headers, data=json.dumps(patient.as_json()), \n",
    "                    pkcs12_filename=clientcert, pkcs12_password='', verify=servercert)\n",
    "    end = time.time()\n",
    "    print(index, response.headers['location'], \" | \", round((end - start), 1), \"ms\") # response.headers['Date']\n"
   ]
  },
  {
   "cell_type": "code",
   "execution_count": null,
   "metadata": {},
   "outputs": [],
   "source": []
  },
  {
   "cell_type": "code",
   "execution_count": null,
   "metadata": {},
   "outputs": [],
   "source": []
  }
 ],
 "metadata": {
  "kernelspec": {
   "display_name": "Python 3",
   "language": "python",
   "name": "python3"
  },
  "language_info": {
   "codemirror_mode": {
    "name": "ipython",
    "version": 3
   },
   "file_extension": ".py",
   "mimetype": "text/x-python",
   "name": "python",
   "nbconvert_exporter": "python",
   "pygments_lexer": "ipython3",
   "version": "3.7.7"
  }
 },
 "nbformat": 4,
 "nbformat_minor": 4
}
